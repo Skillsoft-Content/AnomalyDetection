{
 "cells": [
  {
   "cell_type": "markdown",
   "id": "fd7f37d4",
   "metadata": {},
   "source": [
    "## ANOMALY DETECTION PART 5 EXERCISE ANSWERS ##\n",
    "#### Exercise 1 ####\n",
    "#### Task 1\n",
    "##### Import the required packages\n",
    "##### Set the working directory to data directory\n",
    "##### Print the working directory and the plot directory\n",
    "#### Result:\n"
   ]
  },
  {
   "cell_type": "code",
   "execution_count": null,
   "id": "285c2814",
   "metadata": {},
   "outputs": [],
   "source": [
    "import os\n",
    "import pandas as pd\n",
    "from pandas.plotting import lag_plot\n",
    "import numpy as np\n",
    "import pickle\n",
    "import matplotlib.pyplot as plt\n",
    "import matplotlib.dates as mdates\n",
    "from statsmodels.tsa.stattools import acf\n",
    "from statsmodels.tsa.stattools import adfuller\n",
    "from statsmodels.tsa.seasonal import seasonal_decompose\n",
    "from statsmodels.graphics.tsaplots import plot_acf, plot_pacf\n",
    "from statsmodels.tsa.arima_model import ARIMA\n",
    "from sklearn.metrics import mean_squared_error\n",
    "from math import sqrt\n",
    "import datetime\n",
    "# Set 'main_dir' to location of the project folder\n",
    "from pathlib import Path \n",
    "home_dir = Path(\".\").resolve()\n",
    "main_dir = home_dir.parent.parent\n",
    "print(main_dir)\n",
    "data_dir = str(main_dir) + \"/data\"\n",
    "print(data_dir)\n"
   ]
  },
  {
   "cell_type": "markdown",
   "id": "dd8a93b2",
   "metadata": {},
   "source": [
    "#### Task 2\n",
    "##### Load `PJM_Load_hourly.csv` dataset and print the head. Save as `pjm_load`.\n",
    "##### Convert `Datatime` variable from type `object` to `datetime`. Check its datatype after type-conversion\n",
    "##### Filter the data to include values post year 2001 and check its shape\n",
    "#### Result:\n"
   ]
  },
  {
   "cell_type": "code",
   "execution_count": null,
   "id": "a0b33273",
   "metadata": {},
   "outputs": [],
   "source": [
    "pjm_load = pd.read_csv(str(data_dir)+\"/PJM_Load_hourly.csv\")\n",
    "print(pjm_load.head())\n",
    "pjm_load['Datetime'] = pd.to_datetime(pjm_load['Datetime'])\n",
    "pjm_load.dtypes\n",
    "pjm_load = pjm_load.sort_values(by=['Datetime'])\n",
    "pjm_load = pjm_load[pjm_load['Datetime'] > '2001-01-01 00:00:00']\n",
    "pjm_load.shape\n"
   ]
  },
  {
   "cell_type": "markdown",
   "id": "a2573af2",
   "metadata": {},
   "source": [
    "#### Task 3\n",
    "##### Extract the dates from the datetime variable and calculate the mean of the load for each day\n",
    "##### Visualize the timeseries with `Date` and `PJM_Load_MW` data using a lineplot\n",
    "#### Result:\n"
   ]
  },
  {
   "cell_type": "code",
   "execution_count": null,
   "id": "fec3a83d",
   "metadata": {},
   "outputs": [],
   "source": [
    "pjm_load['Date'] = pjm_load['Datetime'].dt.date\n",
    "pjm_load_datewise = pjm_load.groupby(by=['Date'])['PJM_Load_MW'].mean()\n",
    "pjm_load_datewise.plot(x='Date', y='PJM_Load_MW', figsize=(17,6))\n",
    "plt.xlabel('Date')\n",
    "plt.ylabel('Load')\n",
    "plt.title('Load consumption (MW) for each day after 2001')\n",
    "plt.show()\n"
   ]
  },
  {
   "cell_type": "markdown",
   "id": "623cc8e5",
   "metadata": {},
   "source": [
    "#### Task 4\n",
    "##### Check the stationarity test by performing ADF test using `adfuller` \n",
    "##### Print the p-value \n",
    "##### Interpret the results\n",
    "#### Result:\n"
   ]
  },
  {
   "cell_type": "code",
   "execution_count": null,
   "id": "2bb092c8",
   "metadata": {},
   "outputs": [],
   "source": [
    "# Perform ADF test on original series.\n",
    "result_pm_ex = adfuller(pjm_load_datewise)\n",
    "print('ADF Statistic: %f' % result_pm_ex[0])\n",
    "print('p-value: %f' % result_pm_ex[1])\n",
    "Since the p-value is greater than 0.05 we cannot reject the null hypothesis. Hence the data is not stationary\n"
   ]
  }
 ],
 "metadata": {
  "kernelspec": {
   "display_name": "Python 3 (ipykernel)",
   "language": "python",
   "name": "python3"
  },
  "language_info": {
   "codemirror_mode": {
    "name": "ipython",
    "version": 3
   },
   "file_extension": ".py",
   "mimetype": "text/x-python",
   "name": "python",
   "nbconvert_exporter": "python",
   "pygments_lexer": "ipython3",
   "version": "3.9.7"
  }
 },
 "nbformat": 4,
 "nbformat_minor": 5
}
