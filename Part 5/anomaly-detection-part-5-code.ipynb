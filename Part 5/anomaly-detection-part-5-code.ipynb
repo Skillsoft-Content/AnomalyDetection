{
 "cells": [
  {
   "cell_type": "code",
   "execution_count": null,
   "id": "59a325c6",
   "metadata": {},
   "outputs": [],
   "source": [
    "#######################################################\n",
    "#######################################################\n",
    "############    COPYRIGHT - DATA SOCIETY   ############\n",
    "#######################################################\n",
    "#######################################################\n",
    "\n",
    "## ANOMALY DETECTION PART 5 ##\n",
    "\n",
    "## NOTE: To run individual pieces of code, select the line of code and\n",
    "##       press ctrl + enter for PCs or command + enter for Macs\n",
    "\n",
    "\n"
   ]
  },
  {
   "cell_type": "code",
   "execution_count": null,
   "id": "fa46e9ea",
   "metadata": {},
   "outputs": [],
   "source": [
    "#=================================================-\n",
    "#### Slide 4: Import packages  ####\n",
    "\n",
    "import os\n",
    "from pathlib import Path\n",
    "import pandas as pd\n",
    "from pandas.plotting import lag_plot\n",
    "import numpy as np\n",
    "import pickle\n",
    "from math import sqrt\n",
    "import datetime\n",
    "\n",
    "import matplotlib.pyplot as plt\n",
    "import matplotlib.dates as mdates\n",
    "\n",
    "from statsmodels.tsa.stattools import acf\n",
    "from statsmodels.tsa.stattools import adfuller\n",
    "from statsmodels.tsa.seasonal import seasonal_decompose\n",
    "from statsmodels.graphics.tsaplots import plot_acf, plot_pacf\n",
    "from statsmodels.tsa.arima_model import ARIMA\n",
    "from sklearn.metrics import mean_squared_error\n",
    "\n",
    "\n"
   ]
  },
  {
   "cell_type": "code",
   "execution_count": null,
   "id": "66c58ad9",
   "metadata": {},
   "outputs": [],
   "source": [
    "#=================================================-\n",
    "#### Slide 5: Directory settings  ####\n",
    "\n",
    "# Set 'main_dir' to location of the project folder\n",
    "from pathlib import Path \n",
    "home_dir = Path(\".\").resolve()\n",
    "main_dir = home_dir.parent.parent\n",
    "print(main_dir)\n",
    "data_dir = str(main_dir) + \"/data\"\n",
    "print(data_dir)\n",
    "\n",
    "\n"
   ]
  },
  {
   "cell_type": "code",
   "execution_count": null,
   "id": "3283d2ac",
   "metadata": {},
   "outputs": [],
   "source": [
    "#=================================================-\n",
    "#### Slide 6: Load PJM Energy dataset  ####\n",
    "\n",
    "pjm_energy = pd.read_csv(str(data_dir) + \"/PJME_hourly.csv\")\n",
    "print(pjm_energy.head())\n",
    "pjm_energy['Datetime'] = pd.to_datetime(pjm_energy['Datetime'])\n",
    "pjm_energy.dtypes\n",
    "\n",
    "\n"
   ]
  },
  {
   "cell_type": "code",
   "execution_count": null,
   "id": "078b3691",
   "metadata": {},
   "outputs": [],
   "source": [
    "#=================================================-\n",
    "#### Slide 7: Extract Date from Datetime  ####\n",
    "\n",
    "pjm_energy = pjm_energy.sort_values(by=['Datetime'])\n",
    "pjm_energy = pjm_energy[pjm_energy['Datetime'] > '2018-01-01 00:00:00']\n",
    "pjm_energy.shape\n",
    "pjm_energy['Date'] = pjm_energy['Datetime'].dt.date\n",
    "pjm_energy_datewise = pjm_energy.groupby(by=['Date'])['PJME_MW'].mean()\n",
    "\n",
    "\n"
   ]
  },
  {
   "cell_type": "code",
   "execution_count": null,
   "id": "4bc92ff8",
   "metadata": {},
   "outputs": [],
   "source": [
    "#=================================================-\n",
    "#### Slide 8: Visualize the Energy consumption for each day  ####\n",
    "\n",
    "pjm_energy_datewise.plot(x='Date', y='PJME_MW', figsize=(17,6))\n",
    "plt.xlabel('Date')\n",
    "plt.ylabel('Energy Consumption')\n",
    "plt.title('Energy consumption (MW) at each day in 2018')\n",
    "plt.show()\n",
    "\n",
    "\n"
   ]
  },
  {
   "cell_type": "code",
   "execution_count": null,
   "id": "5254cdd6",
   "metadata": {},
   "outputs": [],
   "source": [
    "#=================================================-\n",
    "#### Slide 28: Stationarity test  ####\n",
    "\n",
    "# Perform ADF test on original series.\n",
    "result_pm = adfuller(pjm_energy_datewise)\n",
    "\n",
    "print('ADF Statistic: %f' % result_pm[0])\n",
    "print('p-value: %f' % result_pm[1])\n",
    "\n",
    "\n"
   ]
  },
  {
   "cell_type": "code",
   "execution_count": null,
   "id": "617749bd",
   "metadata": {},
   "outputs": [],
   "source": [
    "#=================================================-\n",
    "#### Slide 51: Exercise 1  ####\n",
    "\n",
    "\n",
    "\n",
    "\n",
    "#######################################################\n",
    "####  CONGRATULATIONS ON COMPLETING THIS MODULE!   ####\n",
    "#######################################################\n"
   ]
  }
 ],
 "metadata": {
  "kernelspec": {
   "display_name": "Python 3 (ipykernel)",
   "language": "python",
   "name": "python3"
  },
  "language_info": {
   "codemirror_mode": {
    "name": "ipython",
    "version": 3
   },
   "file_extension": ".py",
   "mimetype": "text/x-python",
   "name": "python",
   "nbconvert_exporter": "python",
   "pygments_lexer": "ipython3",
   "version": "3.9.7"
  }
 },
 "nbformat": 4,
 "nbformat_minor": 5
}
